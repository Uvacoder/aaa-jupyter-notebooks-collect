{
 "cells": [
  {
   "cell_type": "code",
   "execution_count": 1,
   "id": "dd9ec831",
   "metadata": {
    "_cell_guid": "b1076dfc-b9ad-4769-8c92-a6c4dae69d19",
    "_uuid": "8f2839f25d086af736a60e9eeb907d3b93b6e0e5",
    "execution": {
     "iopub.execute_input": "2021-08-19T04:51:44.905172Z",
     "iopub.status.busy": "2021-08-19T04:51:44.904019Z",
     "iopub.status.idle": "2021-08-19T04:51:47.633732Z",
     "shell.execute_reply": "2021-08-19T04:51:47.632792Z",
     "shell.execute_reply.started": "2021-08-19T04:46:42.947641Z"
    },
    "papermill": {
     "duration": 2.741198,
     "end_time": "2021-08-19T04:51:47.633928",
     "exception": false,
     "start_time": "2021-08-19T04:51:44.892730",
     "status": "completed"
    },
    "tags": []
   },
   "outputs": [],
   "source": [
    "from optiver_features import generate_test_df\n",
    "from fastai.tabular.all import *"
   ]
  },
  {
   "cell_type": "code",
   "execution_count": 2,
   "id": "1029e6e3",
   "metadata": {
    "execution": {
     "iopub.execute_input": "2021-08-19T04:51:47.651977Z",
     "iopub.status.busy": "2021-08-19T04:51:47.651244Z",
     "iopub.status.idle": "2021-08-19T04:52:32.357607Z",
     "shell.execute_reply": "2021-08-19T04:52:32.358140Z",
     "shell.execute_reply.started": "2021-08-19T04:46:48.544563Z"
    },
    "papermill": {
     "duration": 44.717722,
     "end_time": "2021-08-19T04:52:32.358353",
     "exception": false,
     "start_time": "2021-08-19T04:51:47.640631",
     "status": "completed"
    },
    "tags": []
   },
   "outputs": [],
   "source": [
    "test_df = generate_test_df()\n",
    "train_df = pd.read_csv('../input/optiver-train-features/train_with_features.csv')"
   ]
  },
  {
   "cell_type": "code",
   "execution_count": 3,
   "id": "5b8c8efc",
   "metadata": {
    "execution": {
     "iopub.execute_input": "2021-08-19T04:52:32.373631Z",
     "iopub.status.busy": "2021-08-19T04:52:32.372665Z",
     "iopub.status.idle": "2021-08-19T04:52:32.381360Z",
     "shell.execute_reply": "2021-08-19T04:52:32.381804Z",
     "shell.execute_reply.started": "2021-08-19T04:47:47.582312Z"
    },
    "papermill": {
     "duration": 0.017988,
     "end_time": "2021-08-19T04:52:32.381973",
     "exception": false,
     "start_time": "2021-08-19T04:52:32.363985",
     "status": "completed"
    },
    "tags": []
   },
   "outputs": [],
   "source": [
    "def pred_tabular_nn(train_df, test_df):\n",
    "    train_df = train_df.drop(['time_id', 'row_id'], axis=1).fillna(0)\n",
    "    train_df.stock_id = train_df.stock_id.astype('category')\n",
    "    cont_nn,cat_nn = cont_cat_split(train_df,  dep_var='target')\n",
    "    dls = TabularPandas(train_df, [Categorify, Normalize], cat_nn, cont_nn, y_names='target').dataloaders(2048)\n",
    "    test_dl = dls.test_dl(test_df.fillna(0))\n",
    "    learn = tabular_learner(dls, y_range=(0,.1), layers=[1000,500,200], n_out=1, path = '../input/optiver-models/')\n",
    "    res = torch.zeros(len(test_df))\n",
    "    for idx in range(5):\n",
    "        learn.load(f'nn_fold{idx}')\n",
    "        preds, _ = learn.get_preds(dl=test_dl)\n",
    "        res += preds.squeeze() / 5\n",
    "    return res.numpy()"
   ]
  },
  {
   "cell_type": "code",
   "execution_count": 4,
   "id": "4557a0cb",
   "metadata": {
    "execution": {
     "iopub.execute_input": "2021-08-19T04:52:32.395852Z",
     "iopub.status.busy": "2021-08-19T04:52:32.395218Z",
     "iopub.status.idle": "2021-08-19T04:52:32.400188Z",
     "shell.execute_reply": "2021-08-19T04:52:32.400648Z",
     "shell.execute_reply.started": "2021-08-19T04:47:49.960318Z"
    },
    "papermill": {
     "duration": 0.013441,
     "end_time": "2021-08-19T04:52:32.400808",
     "exception": false,
     "start_time": "2021-08-19T04:52:32.387367",
     "status": "completed"
    },
    "tags": []
   },
   "outputs": [],
   "source": [
    "def pred_lgb(test_df):\n",
    "    test_df = test_df.drop(['row_id', 'time_id'], axis=1)\n",
    "    res = np.zeros(len(test_df))\n",
    "    for idx in range(10):\n",
    "        filename = f'../input/optiver-models/models/lgb_fold{idx}.pickle'\n",
    "        model = pickle.load(open(filename, 'rb'))\n",
    "        preds = model.predict(test_df)\n",
    "        res += preds / 10\n",
    "    return res"
   ]
  },
  {
   "cell_type": "code",
   "execution_count": 5,
   "id": "e9102386",
   "metadata": {
    "execution": {
     "iopub.execute_input": "2021-08-19T04:52:32.414161Z",
     "iopub.status.busy": "2021-08-19T04:52:32.413551Z",
     "iopub.status.idle": "2021-08-19T04:52:54.559669Z",
     "shell.execute_reply": "2021-08-19T04:52:54.560470Z",
     "shell.execute_reply.started": "2021-08-19T04:47:54.592428Z"
    },
    "papermill": {
     "duration": 22.154619,
     "end_time": "2021-08-19T04:52:54.560842",
     "exception": false,
     "start_time": "2021-08-19T04:52:32.406223",
     "status": "completed"
    },
    "tags": []
   },
   "outputs": [
    {
     "data": {
      "text/html": [],
      "text/plain": [
       "<IPython.core.display.HTML object>"
      ]
     },
     "metadata": {},
     "output_type": "display_data"
    },
    {
     "data": {
      "text/html": [],
      "text/plain": [
       "<IPython.core.display.HTML object>"
      ]
     },
     "metadata": {},
     "output_type": "display_data"
    },
    {
     "data": {
      "text/html": [],
      "text/plain": [
       "<IPython.core.display.HTML object>"
      ]
     },
     "metadata": {},
     "output_type": "display_data"
    },
    {
     "data": {
      "text/html": [],
      "text/plain": [
       "<IPython.core.display.HTML object>"
      ]
     },
     "metadata": {},
     "output_type": "display_data"
    },
    {
     "data": {
      "text/html": [],
      "text/plain": [
       "<IPython.core.display.HTML object>"
      ]
     },
     "metadata": {},
     "output_type": "display_data"
    },
    {
     "data": {
      "text/html": [
       "<style type='text/css'>\n",
       ".datatable table.frame { margin-bottom: 0; }\n",
       ".datatable table.frame thead { border-bottom: none; }\n",
       ".datatable table.frame tr.coltypes td {  color: #FFFFFF;  line-height: 6px;  padding: 0 0.5em;}\n",
       ".datatable .bool    { background: #DDDD99; }\n",
       ".datatable .object  { background: #565656; }\n",
       ".datatable .int     { background: #5D9E5D; }\n",
       ".datatable .float   { background: #4040CC; }\n",
       ".datatable .str     { background: #CC4040; }\n",
       ".datatable .time    { background: #40CC40; }\n",
       ".datatable .row_index {  background: var(--jp-border-color3);  border-right: 1px solid var(--jp-border-color0);  color: var(--jp-ui-font-color3);  font-size: 9px;}\n",
       ".datatable .frame tbody td { text-align: left; }\n",
       ".datatable .frame tr.coltypes .row_index {  background: var(--jp-border-color0);}\n",
       ".datatable th:nth-child(2) { padding-left: 12px; }\n",
       ".datatable .hellipsis {  color: var(--jp-cell-editor-border-color);}\n",
       ".datatable .vellipsis {  background: var(--jp-layout-color0);  color: var(--jp-cell-editor-border-color);}\n",
       ".datatable .na {  color: var(--jp-cell-editor-border-color);  font-size: 80%;}\n",
       ".datatable .sp {  opacity: 0.25;}\n",
       ".datatable .footer { font-size: 9px; }\n",
       ".datatable .frame_dimensions {  background: var(--jp-border-color3);  border-top: 1px solid var(--jp-border-color0);  color: var(--jp-ui-font-color3);  display: inline-block;  opacity: 0.6;  padding: 1px 10px 1px 5px;}\n",
       "</style>\n"
      ],
      "text/plain": [
       "<IPython.core.display.HTML object>"
      ]
     },
     "metadata": {},
     "output_type": "display_data"
    },
    {
     "data": {
      "text/html": [
       "<div>\n",
       "<style scoped>\n",
       "    .dataframe tbody tr th:only-of-type {\n",
       "        vertical-align: middle;\n",
       "    }\n",
       "\n",
       "    .dataframe tbody tr th {\n",
       "        vertical-align: top;\n",
       "    }\n",
       "\n",
       "    .dataframe thead th {\n",
       "        text-align: right;\n",
       "    }\n",
       "</style>\n",
       "<table border=\"1\" class=\"dataframe\">\n",
       "  <thead>\n",
       "    <tr style=\"text-align: right;\">\n",
       "      <th></th>\n",
       "      <th>row_id</th>\n",
       "      <th>target</th>\n",
       "    </tr>\n",
       "  </thead>\n",
       "  <tbody>\n",
       "    <tr>\n",
       "      <th>0</th>\n",
       "      <td>0-4</td>\n",
       "      <td>0.003316</td>\n",
       "    </tr>\n",
       "    <tr>\n",
       "      <th>1</th>\n",
       "      <td>0-32</td>\n",
       "      <td>0.000592</td>\n",
       "    </tr>\n",
       "    <tr>\n",
       "      <th>2</th>\n",
       "      <td>0-34</td>\n",
       "      <td>0.000592</td>\n",
       "    </tr>\n",
       "  </tbody>\n",
       "</table>\n",
       "</div>"
      ],
      "text/plain": [
       "  row_id    target\n",
       "0    0-4  0.003316\n",
       "1   0-32  0.000592\n",
       "2   0-34  0.000592"
      ]
     },
     "execution_count": 5,
     "metadata": {},
     "output_type": "execute_result"
    }
   ],
   "source": [
    "nn_preds = pred_tabular_nn(train_df, test_df)\n",
    "lgb_preds = pred_lgb(test_df)\n",
    "\n",
    "test_df['target']=(nn_preds*0.575+lgb_preds*0.425)\n",
    "test_df[['row_id', 'target']].to_csv('submission.csv', index =False)\n",
    "pd.read_csv('submission.csv').head()"
   ]
  }
 ],
 "metadata": {
  "kernelspec": {
   "display_name": "Python 3",
   "language": "python",
   "name": "python3"
  },
  "language_info": {
   "codemirror_mode": {
    "name": "ipython",
    "version": 3
   },
   "file_extension": ".py",
   "mimetype": "text/x-python",
   "name": "python",
   "nbconvert_exporter": "python",
   "pygments_lexer": "ipython3",
   "version": "3.7.10"
  },
  "papermill": {
   "default_parameters": {},
   "duration": 80.545405,
   "end_time": "2021-08-19T04:52:57.229960",
   "environment_variables": {},
   "exception": null,
   "input_path": "__notebook__.ipynb",
   "output_path": "__notebook__.ipynb",
   "parameters": {},
   "start_time": "2021-08-19T04:51:36.684555",
   "version": "2.3.3"
  }
 },
 "nbformat": 4,
 "nbformat_minor": 5
}

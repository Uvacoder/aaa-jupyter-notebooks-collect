{
 "cells": [
  {
   "cell_type": "code",
   "execution_count": 1,
   "id": "7ea40531",
   "metadata": {
    "execution": {
     "iopub.execute_input": "2021-08-19T13:04:04.937150Z",
     "iopub.status.busy": "2021-08-19T13:04:04.935619Z",
     "iopub.status.idle": "2021-08-19T13:04:40.732469Z",
     "shell.execute_reply": "2021-08-19T13:04:40.731743Z",
     "shell.execute_reply.started": "2021-08-19T12:59:49.214528Z"
    },
    "papermill": {
     "duration": 35.811929,
     "end_time": "2021-08-19T13:04:40.732658",
     "exception": false,
     "start_time": "2021-08-19T13:04:04.920729",
     "status": "completed"
    },
    "tags": []
   },
   "outputs": [
    {
     "name": "stdout",
     "output_type": "stream",
     "text": [
      "\u001b[33m  DEPRECATION: A future pip version will change local packages to be built in-place without first copying to a temporary directory. We recommend you use --use-feature=in-tree-build to test your packages with this new behavior before it becomes the default.\r\n",
      "   pip 21.3 will remove support for this functionality. You can find discussion regarding this at https://github.com/pypa/pip/issues/7555.\u001b[0m\r\n",
      "\u001b[33mWARNING: Running pip as root will break packages and permissions. You should install packages reliably by using venv: https://pip.pypa.io/warnings/venv\u001b[0m\r\n",
      "Looking in links: file:///kaggle/input/torch-optimizer/torch_optimizer\r\n",
      "Processing /kaggle/input/torch-optimizer/torch_optimizer/torch_optimizer-0.1.0-py3-none-any.whl\r\n",
      "Processing /kaggle/input/torch-optimizer/torch_optimizer/pytorch_ranger-0.1.1-py3-none-any.whl\r\n",
      "Requirement already satisfied: torch>=1.1.0 in /opt/conda/lib/python3.7/site-packages (from torch_optimizer) (1.7.0)\r\n",
      "Requirement already satisfied: future in /opt/conda/lib/python3.7/site-packages (from torch>=1.1.0->torch_optimizer) (0.18.2)\r\n",
      "Requirement already satisfied: typing_extensions in /opt/conda/lib/python3.7/site-packages (from torch>=1.1.0->torch_optimizer) (3.7.4.3)\r\n",
      "Requirement already satisfied: dataclasses in /opt/conda/lib/python3.7/site-packages (from torch>=1.1.0->torch_optimizer) (0.6)\r\n",
      "Requirement already satisfied: numpy in /opt/conda/lib/python3.7/site-packages (from torch>=1.1.0->torch_optimizer) (1.19.5)\r\n",
      "Installing collected packages: pytorch-ranger, torch-optimizer\r\n",
      "Successfully installed pytorch-ranger-0.1.1 torch-optimizer-0.1.0\r\n",
      "\u001b[33mWARNING: Running pip as root will break packages and permissions. You should install packages reliably by using venv: https://pip.pypa.io/warnings/venv\u001b[0m\r\n"
     ]
    }
   ],
   "source": [
    "!pip install ../input/efficientnet-pytorch/EfficientNet-PyTorch/EfficientNet-PyTorch-master/ > /dev/null # no output\n",
    "!pip install torch_optimizer --no-index --find-links=file:///kaggle/input/torch-optimizer/torch_optimizer"
   ]
  },
  {
   "cell_type": "code",
   "execution_count": 2,
   "id": "1151943f",
   "metadata": {
    "execution": {
     "iopub.execute_input": "2021-08-19T13:04:40.770767Z",
     "iopub.status.busy": "2021-08-19T13:04:40.769859Z",
     "iopub.status.idle": "2021-08-19T13:04:44.137837Z",
     "shell.execute_reply": "2021-08-19T13:04:44.136870Z",
     "shell.execute_reply.started": "2021-08-19T13:00:26.100450Z"
    },
    "papermill": {
     "duration": 3.390975,
     "end_time": "2021-08-19T13:04:44.138001",
     "exception": false,
     "start_time": "2021-08-19T13:04:40.747026",
     "status": "completed"
    },
    "tags": []
   },
   "outputs": [],
   "source": [
    "import os\n",
    "import gc\n",
    "gc.enable()\n",
    "import sys\n",
    "import math\n",
    "import json\n",
    "import time\n",
    "import random\n",
    "from glob import glob\n",
    "from datetime import datetime\n",
    "\n",
    "import cv2\n",
    "import pandas as pd\n",
    "import numpy as np\n",
    "import matplotlib.pyplot as plt\n",
    "from PIL import Image\n",
    "import multiprocessing\n",
    "from sklearn.preprocessing import LabelEncoder\n",
    "\n",
    "import torch\n",
    "import torchvision\n",
    "from torch import Tensor\n",
    "from torchvision import transforms\n",
    "import torch.nn as nn\n",
    "import torch.nn.functional as F\n",
    "from torch.autograd import Variable\n",
    "from torch.nn.parameter import Parameter\n",
    "from torch.optim import lr_scheduler\n",
    "from torch.utils.data import DataLoader, Dataset\n",
    "from torch.utils.data.sampler import SequentialSampler\n",
    "from tqdm import tqdm\n",
    "\n",
    "import efficientnet_pytorch\n",
    "\n",
    "import torch_optimizer as optim\n",
    "import albumentations as A\n",
    "\n",
    "import sklearn\n",
    "\n",
    "import warnings\n",
    "warnings.filterwarnings(\"ignore\")"
   ]
  },
  {
   "cell_type": "code",
   "execution_count": 3,
   "id": "7505acd9",
   "metadata": {
    "execution": {
     "iopub.execute_input": "2021-08-19T13:04:44.166844Z",
     "iopub.status.busy": "2021-08-19T13:04:44.165940Z",
     "iopub.status.idle": "2021-08-19T13:04:44.168801Z",
     "shell.execute_reply": "2021-08-19T13:04:44.168383Z",
     "shell.execute_reply.started": "2021-08-19T13:00:31.959557Z"
    },
    "papermill": {
     "duration": 0.01896,
     "end_time": "2021-08-19T13:04:44.168911",
     "exception": false,
     "start_time": "2021-08-19T13:04:44.149951",
     "status": "completed"
    },
    "tags": []
   },
   "outputs": [],
   "source": [
    "IN_KERNEL = os.environ.get('KAGGLE_WORKING_DIR') is not None\n",
    "BATCH_SIZE = 64\n",
    "NUM_WORKERS = multiprocessing.cpu_count()\n",
    "NUM_TOP_PREDICTS = 1"
   ]
  },
  {
   "cell_type": "code",
   "execution_count": 4,
   "id": "a11799c6",
   "metadata": {
    "execution": {
     "iopub.execute_input": "2021-08-19T13:04:44.195392Z",
     "iopub.status.busy": "2021-08-19T13:04:44.194860Z",
     "iopub.status.idle": "2021-08-19T13:04:44.198138Z",
     "shell.execute_reply": "2021-08-19T13:04:44.198581Z",
     "shell.execute_reply.started": "2021-08-19T13:00:33.838442Z"
    },
    "papermill": {
     "duration": 0.018365,
     "end_time": "2021-08-19T13:04:44.198708",
     "exception": false,
     "start_time": "2021-08-19T13:04:44.180343",
     "status": "completed"
    },
    "tags": []
   },
   "outputs": [],
   "source": [
    "test_dir = '../input/landmark-recognition-2021/test/'"
   ]
  },
  {
   "cell_type": "code",
   "execution_count": 5,
   "id": "e46bd803",
   "metadata": {
    "execution": {
     "iopub.execute_input": "2021-08-19T13:04:44.234305Z",
     "iopub.status.busy": "2021-08-19T13:04:44.233012Z",
     "iopub.status.idle": "2021-08-19T13:04:44.235402Z",
     "shell.execute_reply": "2021-08-19T13:04:44.235812Z",
     "shell.execute_reply.started": "2021-08-19T13:00:36.047500Z"
    },
    "papermill": {
     "duration": 0.024954,
     "end_time": "2021-08-19T13:04:44.235933",
     "exception": false,
     "start_time": "2021-08-19T13:04:44.210979",
     "status": "completed"
    },
    "tags": []
   },
   "outputs": [],
   "source": [
    "class ImageDataset(torch.utils.data.Dataset):\n",
    "    def __init__(self, dataframe: pd.DataFrame, image_dir:str, mode: str):\n",
    "        self.df = dataframe\n",
    "        self.mode = mode\n",
    "        self.image_dir = image_dir\n",
    "        \n",
    "        transforms_list = []\n",
    "        if self.mode == 'train':\n",
    "            # Increase image size from (64,64) to higher resolution,\n",
    "            # Make sure to change in RandomResizedCrop as well.\n",
    "            transforms_list = [\n",
    "                transforms.Resize((64,64)),\n",
    "                transforms.RandomHorizontalFlip(),\n",
    "                transforms.RandomChoice([\n",
    "                    transforms.RandomResizedCrop(64),\n",
    "                    transforms.ColorJitter(0.2, 0.2, 0.2, 0.2),\n",
    "                    transforms.RandomAffine(degrees=15, translate=(0.2, 0.2),\n",
    "                                            scale=(0.8, 1.2), shear=15,\n",
    "                                            resample=Image.BILINEAR)\n",
    "                ]),\n",
    "                transforms.ToTensor(),\n",
    "                transforms.Normalize(mean=[0.485, 0.456, 0.406],\n",
    "                                      std=[0.229, 0.224, 0.225]),\n",
    "            ]\n",
    "        else:\n",
    "            transforms_list.extend([\n",
    "                # Keep this resize same as train\n",
    "                transforms.Resize((64,64)),\n",
    "                transforms.ToTensor(),\n",
    "                transforms.Normalize(mean=[0.485, 0.456, 0.406],\n",
    "                                      std=[0.229, 0.224, 0.225]),\n",
    "            ])\n",
    "        self.transforms = transforms.Compose(transforms_list)\n",
    "\n",
    "    def __getitem__(self, index: int):\n",
    "        image_id = self.df.iloc[index].id\n",
    "        image_path = f\"{self.image_dir}/{image_id[0]}/{image_id[1]}/{image_id[2]}/{image_id}.jpg\"\n",
    "        image = Image.open(image_path)\n",
    "        image = self.transforms(image)\n",
    "\n",
    "        if self.mode == 'test':\n",
    "            return {'image':image}\n",
    "        else:\n",
    "            return {'image':image, \n",
    "                    'target':self.df.iloc[index].landmark_id}\n",
    "\n",
    "    def __len__(self) -> int:\n",
    "        return self.df.shape[0]"
   ]
  },
  {
   "cell_type": "code",
   "execution_count": 6,
   "id": "08429538",
   "metadata": {
    "execution": {
     "iopub.execute_input": "2021-08-19T13:04:44.265225Z",
     "iopub.status.busy": "2021-08-19T13:04:44.264740Z",
     "iopub.status.idle": "2021-08-19T13:04:44.268621Z",
     "shell.execute_reply": "2021-08-19T13:04:44.268179Z",
     "shell.execute_reply.started": "2021-08-19T13:00:39.318980Z"
    },
    "papermill": {
     "duration": 0.021397,
     "end_time": "2021-08-19T13:04:44.268720",
     "exception": false,
     "start_time": "2021-08-19T13:04:44.247323",
     "status": "completed"
    },
    "tags": []
   },
   "outputs": [],
   "source": [
    "class EfficientNetEncoderHead(nn.Module):\n",
    "    def __init__(self, depth, num_classes):\n",
    "        super(EfficientNetEncoderHead, self).__init__()\n",
    "        self.depth = depth\n",
    "        self.base = efficientnet_pytorch.EfficientNet.from_name(f'efficientnet-b{self.depth}')#tropicbird\n",
    "        pretrained_file = glob(f'../input/efficientnet-pytorch/efficientnet-b{self.depth}*')[0]\n",
    "        checkpoint = torch.load(pretrained_file)\n",
    "        self.base.load_state_dict(checkpoint)\n",
    "        \n",
    "        self.avg_pool = nn.AdaptiveAvgPool2d(1)\n",
    "        self.output_filter = self.base._fc.in_features\n",
    "        self.classifier = nn.Linear(self.output_filter, num_classes)\n",
    "    def forward(self, x):\n",
    "        x = self.base.extract_features(x)\n",
    "        x = self.avg_pool(x).squeeze(-1).squeeze(-1)\n",
    "        x = self.classifier(x)\n",
    "        return x"
   ]
  },
  {
   "cell_type": "code",
   "execution_count": 7,
   "id": "2da71dd9",
   "metadata": {
    "execution": {
     "iopub.execute_input": "2021-08-19T13:04:44.299721Z",
     "iopub.status.busy": "2021-08-19T13:04:44.298477Z",
     "iopub.status.idle": "2021-08-19T13:04:44.300667Z",
     "shell.execute_reply": "2021-08-19T13:04:44.301108Z",
     "shell.execute_reply.started": "2021-08-19T13:00:41.904582Z"
    },
    "papermill": {
     "duration": 0.021058,
     "end_time": "2021-08-19T13:04:44.301219",
     "exception": false,
     "start_time": "2021-08-19T13:04:44.280161",
     "status": "completed"
    },
    "tags": []
   },
   "outputs": [],
   "source": [
    "def inference(data_loader, model):\n",
    "    model.eval()\n",
    "\n",
    "    activation = nn.Softmax(dim=1)\n",
    "    all_predicts, all_confs, all_targets = [], [], []\n",
    "\n",
    "    with torch.no_grad():\n",
    "        for i, data in enumerate(tqdm(data_loader, disable=IN_KERNEL)):\n",
    "            if data_loader.dataset.mode != 'test':\n",
    "                input_, target = data['image'], data['target']\n",
    "            else:\n",
    "                input_, target = data['image'], None\n",
    "\n",
    "            output = model(input_.cuda())\n",
    "            output = activation(output)\n",
    "\n",
    "            confs, predicts = torch.topk(output, NUM_TOP_PREDICTS)\n",
    "            all_confs.append(confs)\n",
    "            all_predicts.append(predicts)\n",
    "\n",
    "            if target is not None:\n",
    "                all_targets.append(target)\n",
    "\n",
    "    predicts = torch.cat(all_predicts)\n",
    "    confs = torch.cat(all_confs)\n",
    "    targets = torch.cat(all_targets) if len(all_targets) else None\n",
    "\n",
    "    return predicts, confs, targets"
   ]
  },
  {
   "cell_type": "code",
   "execution_count": 8,
   "id": "72160773",
   "metadata": {
    "execution": {
     "iopub.execute_input": "2021-08-19T13:04:44.332125Z",
     "iopub.status.busy": "2021-08-19T13:04:44.330924Z",
     "iopub.status.idle": "2021-08-19T13:04:44.333207Z",
     "shell.execute_reply": "2021-08-19T13:04:44.333597Z",
     "shell.execute_reply.started": "2021-08-19T13:00:44.740468Z"
    },
    "papermill": {
     "duration": 0.020938,
     "end_time": "2021-08-19T13:04:44.333737",
     "exception": false,
     "start_time": "2021-08-19T13:04:44.312799",
     "status": "completed"
    },
    "tags": []
   },
   "outputs": [],
   "source": [
    "def generate_submission(test_loader, model, label_encoder):\n",
    "    predicts_gpu, confs_gpu, _ = inference(test_loader, model)\n",
    "    predicts, confs = predicts_gpu.cpu().numpy(), confs_gpu.cpu().numpy()\n",
    "\n",
    "    #The modified labels are inversed to the original labels\n",
    "    labels = [label_encoder.inverse_transform(pred) for pred in predicts]\n",
    "    print('labels')\n",
    "    print(np.array(labels))\n",
    "    print('confs')\n",
    "    print(np.array(confs))\n",
    "\n",
    "    sub = test_loader.dataset.df\n",
    "\n",
    "    def concat(label: np.ndarray, conf: np.ndarray):\n",
    "        return ' '.join([f'{str(L)} {str(np.round(c,4))}' for L, c in zip(label, conf)])\n",
    "    sub['landmarks'] = [concat(label, conf) for label, conf in zip(labels, confs)]\n",
    "\n",
    "    sub = sub.set_index('id')\n",
    "    sub.to_csv('submission.csv')"
   ]
  },
  {
   "cell_type": "code",
   "execution_count": 9,
   "id": "cd9714c8",
   "metadata": {
    "execution": {
     "iopub.execute_input": "2021-08-19T13:04:44.360539Z",
     "iopub.status.busy": "2021-08-19T13:04:44.359971Z",
     "iopub.status.idle": "2021-08-19T13:04:51.882302Z",
     "shell.execute_reply": "2021-08-19T13:04:51.881143Z",
     "shell.execute_reply.started": "2021-08-19T13:00:48.157070Z"
    },
    "papermill": {
     "duration": 7.537264,
     "end_time": "2021-08-19T13:04:51.882440",
     "exception": false,
     "start_time": "2021-08-19T13:04:44.345176",
     "status": "completed"
    },
    "tags": []
   },
   "outputs": [],
   "source": [
    "test_filenames=[]\n",
    "for dirname, _, filenames in os.walk('../input/landmark-recognition-2021/test'):\n",
    "    for filename in filenames:\n",
    "        test_filenames.append(filename.split(\".\")[0])\n",
    "test=pd.DataFrame({\"id\":test_filenames,\"landmarks\":\"\"})"
   ]
  },
  {
   "cell_type": "code",
   "execution_count": 10,
   "id": "56cbbbdf",
   "metadata": {
    "execution": {
     "iopub.execute_input": "2021-08-19T13:04:51.910104Z",
     "iopub.status.busy": "2021-08-19T13:04:51.909399Z",
     "iopub.status.idle": "2021-08-19T13:04:51.912122Z",
     "shell.execute_reply": "2021-08-19T13:04:51.911627Z",
     "shell.execute_reply.started": "2021-08-19T13:00:58.777746Z"
    },
    "papermill": {
     "duration": 0.017907,
     "end_time": "2021-08-19T13:04:51.912224",
     "exception": false,
     "start_time": "2021-08-19T13:04:51.894317",
     "status": "completed"
    },
    "tags": []
   },
   "outputs": [],
   "source": [
    "test_dataset = ImageDataset(test, test_dir, mode='test')\n",
    "test_loader = DataLoader(test_dataset, \n",
    "                         batch_size=BATCH_SIZE,\n",
    "                         shuffle=False, num_workers=NUM_WORKERS)"
   ]
  },
  {
   "cell_type": "code",
   "execution_count": 11,
   "id": "eb4cd3c6",
   "metadata": {
    "execution": {
     "iopub.execute_input": "2021-08-19T13:04:51.938496Z",
     "iopub.status.busy": "2021-08-19T13:04:51.937917Z",
     "iopub.status.idle": "2021-08-19T13:04:51.954311Z",
     "shell.execute_reply": "2021-08-19T13:04:51.953847Z",
     "shell.execute_reply.started": "2021-08-19T13:01:00.813742Z"
    },
    "papermill": {
     "duration": 0.030753,
     "end_time": "2021-08-19T13:04:51.954432",
     "exception": false,
     "start_time": "2021-08-19T13:04:51.923679",
     "status": "completed"
    },
    "tags": []
   },
   "outputs": [],
   "source": [
    "label_encoder = LabelEncoder()\n",
    "label_encoder.classes_ = np.load('../input/pytorch-starter-train-efficientnet/classes.npy')"
   ]
  },
  {
   "cell_type": "code",
   "execution_count": 12,
   "id": "77c20c72",
   "metadata": {
    "execution": {
     "iopub.execute_input": "2021-08-19T13:04:51.982796Z",
     "iopub.status.busy": "2021-08-19T13:04:51.982165Z",
     "iopub.status.idle": "2021-08-19T13:05:00.330696Z",
     "shell.execute_reply": "2021-08-19T13:05:00.330156Z",
     "shell.execute_reply.started": "2021-08-19T13:01:02.813169Z"
    },
    "papermill": {
     "duration": 8.364791,
     "end_time": "2021-08-19T13:05:00.330826",
     "exception": false,
     "start_time": "2021-08-19T13:04:51.966035",
     "status": "completed"
    },
    "tags": []
   },
   "outputs": [
    {
     "data": {
      "text/plain": [
       "<All keys matched successfully>"
      ]
     },
     "execution_count": 12,
     "metadata": {},
     "output_type": "execute_result"
    }
   ],
   "source": [
    "model = EfficientNetEncoderHead(depth=0, num_classes=len(label_encoder.classes_))\n",
    "model.cuda()\n",
    "model.load_state_dict(torch.load(\"../input/pytorch-starter-train-efficientnet/new_weight_efficientnet.pth\"))"
   ]
  },
  {
   "cell_type": "code",
   "execution_count": 13,
   "id": "63d10e4e",
   "metadata": {
    "execution": {
     "iopub.execute_input": "2021-08-19T13:05:00.359968Z",
     "iopub.status.busy": "2021-08-19T13:05:00.359414Z",
     "iopub.status.idle": "2021-08-19T13:06:38.103373Z",
     "shell.execute_reply": "2021-08-19T13:06:38.103768Z",
     "shell.execute_reply.started": "2021-08-19T13:01:15.107459Z"
    },
    "papermill": {
     "duration": 97.76071,
     "end_time": "2021-08-19T13:06:38.103932",
     "exception": false,
     "start_time": "2021-08-19T13:05:00.343222",
     "status": "completed"
    },
    "tags": []
   },
   "outputs": [
    {
     "name": "stderr",
     "output_type": "stream",
     "text": [
      "100%|██████████| 162/162 [01:32<00:00,  1.76it/s]\n"
     ]
    },
    {
     "name": "stdout",
     "output_type": "stream",
     "text": [
      "labels\n",
      "[[ 89939]\n",
      " [121658]\n",
      " [ 16427]\n",
      " ...\n",
      " [  7160]\n",
      " [136675]\n",
      " [ 81882]]\n",
      "confs\n",
      "[[0.16871728]\n",
      " [0.14075005]\n",
      " [0.15300055]\n",
      " ...\n",
      " [0.03906488]\n",
      " [0.33316883]\n",
      " [0.20020518]]\n"
     ]
    },
    {
     "data": {
      "text/html": [
       "<div>\n",
       "<style scoped>\n",
       "    .dataframe tbody tr th:only-of-type {\n",
       "        vertical-align: middle;\n",
       "    }\n",
       "\n",
       "    .dataframe tbody tr th {\n",
       "        vertical-align: top;\n",
       "    }\n",
       "\n",
       "    .dataframe thead th {\n",
       "        text-align: right;\n",
       "    }\n",
       "</style>\n",
       "<table border=\"1\" class=\"dataframe\">\n",
       "  <thead>\n",
       "    <tr style=\"text-align: right;\">\n",
       "      <th></th>\n",
       "      <th>id</th>\n",
       "      <th>landmarks</th>\n",
       "    </tr>\n",
       "  </thead>\n",
       "  <tbody>\n",
       "    <tr>\n",
       "      <th>0</th>\n",
       "      <td>777f9efff0fc6b81</td>\n",
       "      <td>89939 0.1687</td>\n",
       "    </tr>\n",
       "    <tr>\n",
       "      <th>1</th>\n",
       "      <td>7774e44062fbd8bc</td>\n",
       "      <td>121658 0.1408</td>\n",
       "    </tr>\n",
       "    <tr>\n",
       "      <th>2</th>\n",
       "      <td>777173e839e6cfa7</td>\n",
       "      <td>16427 0.153</td>\n",
       "    </tr>\n",
       "    <tr>\n",
       "      <th>3</th>\n",
       "      <td>7726658184c7e337</td>\n",
       "      <td>166106 0.1389</td>\n",
       "    </tr>\n",
       "    <tr>\n",
       "      <th>4</th>\n",
       "      <td>77be72c73bbf4f18</td>\n",
       "      <td>178218 0.0855</td>\n",
       "    </tr>\n",
       "    <tr>\n",
       "      <th>...</th>\n",
       "      <td>...</td>\n",
       "      <td>...</td>\n",
       "    </tr>\n",
       "    <tr>\n",
       "      <th>10340</th>\n",
       "      <td>dd912d66515ce5f0</td>\n",
       "      <td>171140 0.0992</td>\n",
       "    </tr>\n",
       "    <tr>\n",
       "      <th>10341</th>\n",
       "      <td>dd90d3737bbbcc05</td>\n",
       "      <td>47516 0.0332</td>\n",
       "    </tr>\n",
       "    <tr>\n",
       "      <th>10342</th>\n",
       "      <td>dd6db4a564eebf38</td>\n",
       "      <td>7160 0.0391</td>\n",
       "    </tr>\n",
       "    <tr>\n",
       "      <th>10343</th>\n",
       "      <td>dddcd5b7d09cd416</td>\n",
       "      <td>136675 0.3332</td>\n",
       "    </tr>\n",
       "    <tr>\n",
       "      <th>10344</th>\n",
       "      <td>ddda3e906a6fe207</td>\n",
       "      <td>81882 0.2002</td>\n",
       "    </tr>\n",
       "  </tbody>\n",
       "</table>\n",
       "<p>10345 rows × 2 columns</p>\n",
       "</div>"
      ],
      "text/plain": [
       "                     id      landmarks\n",
       "0      777f9efff0fc6b81   89939 0.1687\n",
       "1      7774e44062fbd8bc  121658 0.1408\n",
       "2      777173e839e6cfa7    16427 0.153\n",
       "3      7726658184c7e337  166106 0.1389\n",
       "4      77be72c73bbf4f18  178218 0.0855\n",
       "...                 ...            ...\n",
       "10340  dd912d66515ce5f0  171140 0.0992\n",
       "10341  dd90d3737bbbcc05   47516 0.0332\n",
       "10342  dd6db4a564eebf38    7160 0.0391\n",
       "10343  dddcd5b7d09cd416  136675 0.3332\n",
       "10344  ddda3e906a6fe207   81882 0.2002\n",
       "\n",
       "[10345 rows x 2 columns]"
      ]
     },
     "execution_count": 13,
     "metadata": {},
     "output_type": "execute_result"
    }
   ],
   "source": [
    "generate_submission(test_loader, model, label_encoder)\n",
    "pd.read_csv(\"./submission.csv\")"
   ]
  }
 ],
 "metadata": {
  "kernelspec": {
   "display_name": "Python 3",
   "language": "python",
   "name": "python3"
  },
  "language_info": {
   "codemirror_mode": {
    "name": "ipython",
    "version": 3
   },
   "file_extension": ".py",
   "mimetype": "text/x-python",
   "name": "python",
   "nbconvert_exporter": "python",
   "pygments_lexer": "ipython3",
   "version": "3.7.10"
  },
  "papermill": {
   "default_parameters": {},
   "duration": 161.673463,
   "end_time": "2021-08-19T13:06:40.078390",
   "environment_variables": {},
   "exception": null,
   "input_path": "__notebook__.ipynb",
   "output_path": "__notebook__.ipynb",
   "parameters": {},
   "start_time": "2021-08-19T13:03:58.404927",
   "version": "2.3.3"
  }
 },
 "nbformat": 4,
 "nbformat_minor": 5
}
